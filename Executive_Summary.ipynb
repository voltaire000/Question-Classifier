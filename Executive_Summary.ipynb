{
 "cells": [
  {
   "cell_type": "markdown",
   "metadata": {},
   "source": [
    "## Project Statement: Search engines may be able to be improved by using inquiry classifiers in order to better serve the specific type of data that a person may be seeking. "
   ]
  },
  {
   "cell_type": "markdown",
   "metadata": {},
   "source": [
    "People spend a fair amount of time being forced to wrangle key terms into a search engine which especially for less technically inclined users could cause a large amount of frustration. This frustration could lead them to using other alternatives in the future that are better able to serve their needs. "
   ]
  },
  {
   "cell_type": "markdown",
   "metadata": {},
   "source": [
    "Creating an inquiry based search engine would be preferable to key term searching in the case of less technically savvy people because it will allow them to directly ask their question to the search engine. This type of question based search engine would be able to use sentiment analysis and word choice in order to determine the type of result that they may be seeking and as such would better serve them the specific data that they need and create a better user experience. This better user experience may allow us to increase our search engines market share of users. "
   ]
  },
  {
   "cell_type": "markdown",
   "metadata": {},
   "source": [
    "As someone with a basic understanding of classification methods I will attempt to create a basic model of such an inquiry classifier in order to show my point about engine result classification as a feasable way to improve user experience in search engine usage. "
   ]
  }
 ],
 "metadata": {
  "kernelspec": {
   "display_name": "Python 3",
   "language": "python",
   "name": "python3"
  },
  "language_info": {
   "codemirror_mode": {
    "name": "ipython",
    "version": 3
   },
   "file_extension": ".py",
   "mimetype": "text/x-python",
   "name": "python",
   "nbconvert_exporter": "python",
   "pygments_lexer": "ipython3",
   "version": "3.7.9"
  }
 },
 "nbformat": 4,
 "nbformat_minor": 4
}
